{
  "nbformat": 4,
  "nbformat_minor": 0,
  "metadata": {
    "colab": {
      "name": "RetailAnalysiswithWalmartData.ipynb",
      "provenance": []
    },
    "kernelspec": {
      "name": "python3",
      "display_name": "Python 3"
    }
  },
  "cells": [
    {
      "cell_type": "markdown",
      "metadata": {
        "id": "uoUgNQkjkFZe"
      },
      "source": [
        "DESCRIPTION\n",
        "\n",
        "One of the leading retail stores in the US, Walmart, would like to predict the sales and demand accurately. There are certain events and holidays which impact sales on each day. There are sales data available for 45 stores of Walmart. The business is facing a challenge due to unforeseen demands and runs out of stock some times, due to the inappropriate machine learning algorithm. An ideal ML algorithm will predict demand accurately and ingest factors like economic conditions including CPI, Unemployment Index, etc.\n",
        "\n",
        "Walmart runs several promotional markdown events throughout the year. These markdowns precede prominent holidays, the four largest of all, which are the Super Bowl, Labour Day, Thanksgiving, and Christmas. The weeks including these holidays are weighted five times higher in the evaluation than non-holiday weeks. Part of the challenge presented by this competition is modeling the effects of markdowns on these holiday weeks in the absence of complete/ideal historical data. Historical sales data for 45 Walmart stores located in different regions are available."
      ]
    },
    {
      "cell_type": "code",
      "metadata": {
        "id": "IlLUVwnNjqWv"
      },
      "source": [
        ""
      ],
      "execution_count": null,
      "outputs": []
    },
    {
      "cell_type": "markdown",
      "metadata": {
        "id": "as_9-lfUoL4G"
      },
      "source": [
        "Basic Statistics tasks\n",
        "\n",
        "Which store has maximum sales\n",
        "\n",
        "Which store has maximum standard deviation i.e., the sales vary a lot. Also, find out the coefficient of mean to standard deviation\n",
        "\n",
        "Which store/s has good quarterly growth rate in Q3’2012\n",
        "\n",
        "Some holidays have a negative impact on sales. Find out holidays which have higher sales than the mean sales in non-holiday season for all stores together\n",
        "\n",
        "Provide a monthly and semester view of sales in units and give insights\n",
        "\n",
        "Statistical Model\n",
        "\n",
        "For Store 1 – Build  prediction models to forecast demand\n",
        "\n",
        "Linear Regression – Utilize variables like date and restructure dates as 1 for 5 Feb 2010 (starting from the earliest date in order). Hypothesize if CPI, unemployment, and fuel price have any impact on sales.\n",
        "\n",
        "Change dates into days by creating new variable."
      ]
    },
    {
      "cell_type": "code",
      "metadata": {
        "id": "E_gk9UHRoNVB"
      },
      "source": [
        "# import necessary packages\n",
        "import numpy as np\n",
        "import pandas as pd\n",
        "import matplotlib.pyplot as plt\n",
        "%matplotlib inline\n",
        "from patsy import dmatrices\n",
        "import sklearn\n",
        "import seaborn as sns\n",
        "from sklearn.model_selection import train_test_split\n",
        "from sklearn.linear_model import LinearRegression\n",
        "from sklearn.linear_model import LogisticRegression\n",
        "from sklearn import metrics\n",
        "\n"
      ],
      "execution_count": null,
      "outputs": []
    },
    {
      "cell_type": "code",
      "metadata": {
        "id": "CwomOgcHoce1",
        "colab": {
          "base_uri": "https://localhost:8080/",
          "height": 204
        },
        "outputId": "76ec87db-77a2-4744-d959-3f79356f1ba9"
      },
      "source": [
        "# Load the dataset\n",
        "walmart_data = pd.read_csv(\"/content/drive/My Drive/DeepLearning_Simili/Projects/Data Science/Walmart_Store_sales 2.csv\")\n",
        "walmart_data.head()\n"
      ],
      "execution_count": null,
      "outputs": [
        {
          "output_type": "execute_result",
          "data": {
            "text/html": [
              "<div>\n",
              "<style scoped>\n",
              "    .dataframe tbody tr th:only-of-type {\n",
              "        vertical-align: middle;\n",
              "    }\n",
              "\n",
              "    .dataframe tbody tr th {\n",
              "        vertical-align: top;\n",
              "    }\n",
              "\n",
              "    .dataframe thead th {\n",
              "        text-align: right;\n",
              "    }\n",
              "</style>\n",
              "<table border=\"1\" class=\"dataframe\">\n",
              "  <thead>\n",
              "    <tr style=\"text-align: right;\">\n",
              "      <th></th>\n",
              "      <th>Store</th>\n",
              "      <th>Date</th>\n",
              "      <th>Weekly_Sales</th>\n",
              "      <th>Holiday_Flag</th>\n",
              "      <th>Temperature</th>\n",
              "      <th>Fuel_Price</th>\n",
              "      <th>CPI</th>\n",
              "      <th>Unemployment</th>\n",
              "    </tr>\n",
              "  </thead>\n",
              "  <tbody>\n",
              "    <tr>\n",
              "      <th>0</th>\n",
              "      <td>1</td>\n",
              "      <td>05-02-2010</td>\n",
              "      <td>1643690.90</td>\n",
              "      <td>0</td>\n",
              "      <td>42.31</td>\n",
              "      <td>2.572</td>\n",
              "      <td>211.096358</td>\n",
              "      <td>8.106</td>\n",
              "    </tr>\n",
              "    <tr>\n",
              "      <th>1</th>\n",
              "      <td>1</td>\n",
              "      <td>12-02-2010</td>\n",
              "      <td>1641957.44</td>\n",
              "      <td>1</td>\n",
              "      <td>38.51</td>\n",
              "      <td>2.548</td>\n",
              "      <td>211.242170</td>\n",
              "      <td>8.106</td>\n",
              "    </tr>\n",
              "    <tr>\n",
              "      <th>2</th>\n",
              "      <td>1</td>\n",
              "      <td>19-02-2010</td>\n",
              "      <td>1611968.17</td>\n",
              "      <td>0</td>\n",
              "      <td>39.93</td>\n",
              "      <td>2.514</td>\n",
              "      <td>211.289143</td>\n",
              "      <td>8.106</td>\n",
              "    </tr>\n",
              "    <tr>\n",
              "      <th>3</th>\n",
              "      <td>1</td>\n",
              "      <td>26-02-2010</td>\n",
              "      <td>1409727.59</td>\n",
              "      <td>0</td>\n",
              "      <td>46.63</td>\n",
              "      <td>2.561</td>\n",
              "      <td>211.319643</td>\n",
              "      <td>8.106</td>\n",
              "    </tr>\n",
              "    <tr>\n",
              "      <th>4</th>\n",
              "      <td>1</td>\n",
              "      <td>05-03-2010</td>\n",
              "      <td>1554806.68</td>\n",
              "      <td>0</td>\n",
              "      <td>46.50</td>\n",
              "      <td>2.625</td>\n",
              "      <td>211.350143</td>\n",
              "      <td>8.106</td>\n",
              "    </tr>\n",
              "  </tbody>\n",
              "</table>\n",
              "</div>"
            ],
            "text/plain": [
              "   Store        Date  Weekly_Sales  ...  Fuel_Price         CPI  Unemployment\n",
              "0      1  05-02-2010    1643690.90  ...       2.572  211.096358         8.106\n",
              "1      1  12-02-2010    1641957.44  ...       2.548  211.242170         8.106\n",
              "2      1  19-02-2010    1611968.17  ...       2.514  211.289143         8.106\n",
              "3      1  26-02-2010    1409727.59  ...       2.561  211.319643         8.106\n",
              "4      1  05-03-2010    1554806.68  ...       2.625  211.350143         8.106\n",
              "\n",
              "[5 rows x 8 columns]"
            ]
          },
          "metadata": {
            "tags": []
          },
          "execution_count": 2
        }
      ]
    },
    {
      "cell_type": "code",
      "metadata": {
        "id": "0ev9KMYkorqk",
        "colab": {
          "base_uri": "https://localhost:8080/",
          "height": 34
        },
        "outputId": "70779e0d-b2e2-4ec5-94e7-64e9359b4817"
      },
      "source": [
        "# maximum sales\n",
        "walmart_data_groupby = walmart_data.groupby('Store')['Weekly_Sales'].sum()\n",
        "print(\"Store Number {} has maximum Sales. Sum of Total Sales {}\".format(walmart_data_groupby.idxmax\n",
        "(),walmart_data_groupby.max()))"
      ],
      "execution_count": null,
      "outputs": [
        {
          "output_type": "stream",
          "text": [
            "Store Number 20 has maximum Sales. Sum of Total Sales 301397792.46000004\n"
          ],
          "name": "stdout"
        }
      ]
    },
    {
      "cell_type": "code",
      "metadata": {
        "id": "1nO1sdQCp_GV",
        "colab": {
          "base_uri": "https://localhost:8080/",
          "height": 34
        },
        "outputId": "0a065ddb-5c4b-4050-88b0-96b248315e9a"
      },
      "source": [
        "# Max svd of store\n",
        "walmart_data_std = walmart_data.groupby('Store').agg({'Weekly_Sales':'std'})\n",
        "print(\"Store Number {} has maximum Standard Deviation. STD {}\".format(walmart_data_std['Weekly_Sales'\n",
        "].idxmax(),walmart_data_std['Weekly_Sales'].max()))"
      ],
      "execution_count": null,
      "outputs": [
        {
          "output_type": "stream",
          "text": [
            "Store Number 14 has maximum Standard Deviation. STD 317569.9494755081\n"
          ],
          "name": "stdout"
        }
      ]
    },
    {
      "cell_type": "code",
      "metadata": {
        "id": "IFHI8ep9q1fL",
        "colab": {
          "base_uri": "https://localhost:8080/",
          "height": 266
        },
        "outputId": "60302f9a-b72e-4710-d10d-fb27e2e11e81"
      },
      "source": [
        "# mean and std weekly sales\n",
        "walmart_data_std = walmart_data.groupby('Store').agg({'Weekly_Sales':['mean','std']})\n",
        "walmart_data_std.head()"
      ],
      "execution_count": null,
      "outputs": [
        {
          "output_type": "execute_result",
          "data": {
            "text/html": [
              "<div>\n",
              "<style scoped>\n",
              "    .dataframe tbody tr th:only-of-type {\n",
              "        vertical-align: middle;\n",
              "    }\n",
              "\n",
              "    .dataframe tbody tr th {\n",
              "        vertical-align: top;\n",
              "    }\n",
              "\n",
              "    .dataframe thead tr th {\n",
              "        text-align: left;\n",
              "    }\n",
              "\n",
              "    .dataframe thead tr:last-of-type th {\n",
              "        text-align: right;\n",
              "    }\n",
              "</style>\n",
              "<table border=\"1\" class=\"dataframe\">\n",
              "  <thead>\n",
              "    <tr>\n",
              "      <th></th>\n",
              "      <th colspan=\"2\" halign=\"left\">Weekly_Sales</th>\n",
              "    </tr>\n",
              "    <tr>\n",
              "      <th></th>\n",
              "      <th>mean</th>\n",
              "      <th>std</th>\n",
              "    </tr>\n",
              "    <tr>\n",
              "      <th>Store</th>\n",
              "      <th></th>\n",
              "      <th></th>\n",
              "    </tr>\n",
              "  </thead>\n",
              "  <tbody>\n",
              "    <tr>\n",
              "      <th>1</th>\n",
              "      <td>1.555264e+06</td>\n",
              "      <td>155980.767761</td>\n",
              "    </tr>\n",
              "    <tr>\n",
              "      <th>2</th>\n",
              "      <td>1.925751e+06</td>\n",
              "      <td>237683.694682</td>\n",
              "    </tr>\n",
              "    <tr>\n",
              "      <th>3</th>\n",
              "      <td>4.027044e+05</td>\n",
              "      <td>46319.631557</td>\n",
              "    </tr>\n",
              "    <tr>\n",
              "      <th>4</th>\n",
              "      <td>2.094713e+06</td>\n",
              "      <td>266201.442297</td>\n",
              "    </tr>\n",
              "    <tr>\n",
              "      <th>5</th>\n",
              "      <td>3.180118e+05</td>\n",
              "      <td>37737.965745</td>\n",
              "    </tr>\n",
              "  </tbody>\n",
              "</table>\n",
              "</div>"
            ],
            "text/plain": [
              "       Weekly_Sales               \n",
              "               mean            std\n",
              "Store                             \n",
              "1      1.555264e+06  155980.767761\n",
              "2      1.925751e+06  237683.694682\n",
              "3      4.027044e+05   46319.631557\n",
              "4      2.094713e+06  266201.442297\n",
              "5      3.180118e+05   37737.965745"
            ]
          },
          "metadata": {
            "tags": []
          },
          "execution_count": 8
        }
      ]
    },
    {
      "cell_type": "code",
      "metadata": {
        "id": "k85RGmABrCXN",
        "colab": {
          "base_uri": "https://localhost:8080/",
          "height": 34
        },
        "outputId": "29eaef03-05d2-4e9b-ee71-7562e29a7431"
      },
      "source": [
        "# Store # with hightest growth\n",
        "walmart_data_Q32012 = walmart_data[(pd.to_datetime(walmart_data['Date']) >= pd.to_datetime('07-01-2012')) & \n",
        "                                   (pd.to_datetime(walmart_data['Date']) <= pd.to_datetime('09-30-2012'))]\n",
        "walmart_data_growth = walmart_data_Q32012.groupby(['Store'])['Weekly_Sales'].sum()\n",
        "print(\"Store Number {} has Good Quartely Growth in Q3'2012 {}\".format(walmart_data_growth.idxmax(),\n",
        "                                                                      walmart_data_growth.max()))"
      ],
      "execution_count": null,
      "outputs": [
        {
          "output_type": "stream",
          "text": [
            "Store Number 4 has Good Quartely Growth in Q3'2012 25652119.35\n"
          ],
          "name": "stdout"
        }
      ]
    },
    {
      "cell_type": "code",
      "metadata": {
        "id": "gwrYZnkZrpoQ"
      },
      "source": [
        "# Stores Holiday Sales\n",
        "stores_holiday_sales = walmart_data[walmart_data['Holiday_Flag'] == 1]"
      ],
      "execution_count": null,
      "outputs": []
    },
    {
      "cell_type": "code",
      "metadata": {
        "id": "iMwcAQHxrwfh"
      },
      "source": [
        "# Stores Weekday Sales\n",
        "stores_nonholiday_sales = walmart_data[walmart_data['Holiday_Flag'] == 0]"
      ],
      "execution_count": null,
      "outputs": []
    },
    {
      "cell_type": "code",
      "metadata": {
        "id": "vLZ_lupMr6yB"
      },
      "source": [
        "#Stores Sales in Super Bowl Day where Super Bowl: 12-Feb-10, 11-Feb-11, 10-Feb-12, 8-Feb-13\n",
        "stores_holiday_sales_superBowl = stores_holiday_sales[(\n",
        "    pd.to_datetime(stores_holiday_sales['Date']) == pd.to_datetime('12-02-2010')) |\n",
        "    (pd.to_datetime(stores_holiday_sales['Date']) == pd.to_datetime('11-02-2011'))|\n",
        "    (pd.to_datetime(stores_holiday_sales['Date']) == pd.to_datetime('10-02-2012'))|\n",
        "    (pd.to_datetime(stores_holiday_sales['Date']) == pd.to_datetime('08-02-2013'))]"
      ],
      "execution_count": null,
      "outputs": []
    },
    {
      "cell_type": "code",
      "metadata": {
        "id": "S4Zgml5psrmm"
      },
      "source": [
        "#Stores Sales in Labour Day  where Labour Day: 10-Sep-10, 9-Sep-11, 7-Sep-12, 6-Sep-13\n",
        "stores_holiday_sales_labourDay = stores_holiday_sales[(\n",
        "    pd.to_datetime(stores_holiday_sales['Date']) == pd.to_datetime('10-09-2010')) |\n",
        "    (pd.to_datetime(stores_holiday_sales['Date']) == pd.to_datetime('09-09-2011'))|\n",
        "    (pd.to_datetime(stores_holiday_sales['Date']) == pd.to_datetime('07-09-2012'))|\n",
        "    (pd.to_datetime(stores_holiday_sales['Date']) == pd.to_datetime('06-09-2013'))]"
      ],
      "execution_count": null,
      "outputs": []
    },
    {
      "cell_type": "code",
      "metadata": {
        "id": "XM9jFbFVtOJE"
      },
      "source": [
        "#Stores Sales in Thanks Giving where Thanksgiving: 26-Nov-10, 25-Nov-11, 23-Nov-12, 29-Nov-13\n",
        "stores_holiday_sales_thanksgiving = stores_holiday_sales[(\n",
        "    pd.to_datetime(stores_holiday_sales['Date']) == pd.to_datetime('26-11-2010')) |\n",
        "    (pd.to_datetime(stores_holiday_sales['Date']) == pd.to_datetime('25-11-2011'))|\n",
        "    (pd.to_datetime(stores_holiday_sales['Date']) == pd.to_datetime('23-11-2012'))|\n",
        "    (pd.to_datetime(stores_holiday_sales['Date']) == pd.to_datetime('29-11-2013'))]"
      ],
      "execution_count": null,
      "outputs": []
    },
    {
      "cell_type": "code",
      "metadata": {
        "id": "mjai2M_otlhJ"
      },
      "source": [
        "#Stores Sales in Christmas where Christmas: 31-Dec-10, 30-Dec-11, 28-Dec-12, 27-Dec-13\n",
        "stores_holiday_sales_Christmas = stores_holiday_sales[(\n",
        "    pd.to_datetime(stores_holiday_sales['Date']) == pd.to_datetime('31-12-2010')) |\n",
        "    (pd.to_datetime(stores_holiday_sales['Date']) == pd.to_datetime('30-12-2011'))|\n",
        "    (pd.to_datetime(stores_holiday_sales['Date']) == pd.to_datetime('28-12-2012'))|\n",
        "    (pd.to_datetime(stores_holiday_sales['Date']) == pd.to_datetime('27-12-2013'))]"
      ],
      "execution_count": null,
      "outputs": []
    },
    {
      "cell_type": "code",
      "metadata": {
        "id": "Cn5vnxgluDbG"
      },
      "source": [
        "stores_nonholiday_sales_mean = stores_nonholiday_sales.groupby(\n",
        "    ['Date']).agg({'Weekly_Sales':'mean'}).reset_index()\n",
        "stores_holiday_sales_sum = stores_holiday_sales.groupby(\n",
        "    ['Date']).agg({'Weekly_Sales':'sum'}).reset_index()"
      ],
      "execution_count": null,
      "outputs": []
    },
    {
      "cell_type": "code",
      "metadata": {
        "id": "f-6ORMZkuiVw",
        "colab": {
          "base_uri": "https://localhost:8080/",
          "height": 187
        },
        "outputId": "2dfd55b5-8c33-4e9a-d0fc-f8f142156c49"
      },
      "source": [
        "for i in stores_holiday_sales_sum.itertuples():\n",
        "    for j in stores_nonholiday_sales_mean.itertuples():\n",
        "        if i.Weekly_Sales > j.Weekly_Sales:\n",
        "            print(\"On this Date {} Holiday Sales is greater than Non Holiday Sales and the Sales :-{}\".format(i.Date,i.Weekly_Sales))\n",
        "            break;"
      ],
      "execution_count": null,
      "outputs": [
        {
          "output_type": "stream",
          "text": [
            "On this Date 07-09-2012 Holiday Sales is greater than Non Holiday Sales and the Sales :-48330059.31\n",
            "On this Date 09-09-2011 Holiday Sales is greater than Non Holiday Sales and the Sales :-46763227.529999994\n",
            "On this Date 10-02-2012 Holiday Sales is greater than Non Holiday Sales and the Sales :-50009407.919999994\n",
            "On this Date 10-09-2010 Holiday Sales is greater than Non Holiday Sales and the Sales :-45634397.84\n",
            "On this Date 11-02-2011 Holiday Sales is greater than Non Holiday Sales and the Sales :-47336192.79000002\n",
            "On this Date 12-02-2010 Holiday Sales is greater than Non Holiday Sales and the Sales :-48336677.63000002\n",
            "On this Date 25-11-2011 Holiday Sales is greater than Non Holiday Sales and the Sales :-66593605.25999998\n",
            "On this Date 26-11-2010 Holiday Sales is greater than Non Holiday Sales and the Sales :-65821003.23999999\n",
            "On this Date 30-12-2011 Holiday Sales is greater than Non Holiday Sales and the Sales :-46042461.04000001\n",
            "On this Date 31-12-2010 Holiday Sales is greater than Non Holiday Sales and the Sales :-40432519.0\n"
          ],
          "name": "stdout"
        }
      ]
    },
    {
      "cell_type": "code",
      "metadata": {
        "id": "9fZAkmgRvOKh",
        "colab": {
          "base_uri": "https://localhost:8080/",
          "height": 85
        },
        "outputId": "a57cb881-59f2-45a4-e277-29b28808eb6a"
      },
      "source": [
        "print(\"Super Bowl Day Sale\",stores_holiday_sales_superBowl['Weekly_Sales'].sum())\n",
        "print(\"Labour Day Sale\",stores_holiday_sales_labourDay['Weekly_Sales'].sum())\n",
        "print(\"Thanksgiving Day Sale\",stores_holiday_sales_thanksgiving['Weekly_Sales'].sum())\n",
        "print(\"Christmas Day Sale\",stores_holiday_sales_Christmas['Weekly_Sales'].sum())"
      ],
      "execution_count": null,
      "outputs": [
        {
          "output_type": "stream",
          "text": [
            "Super Bowl Day Sale 145682278.34\n",
            "Labour Day Sale 140727684.68\n",
            "Thanksgiving Day Sale 132414608.5\n",
            "Christmas Day Sale 86474980.03999999\n"
          ],
          "name": "stdout"
        }
      ]
    },
    {
      "cell_type": "code",
      "metadata": {
        "id": "7Pb57zQzvTxr",
        "colab": {
          "base_uri": "https://localhost:8080/",
          "height": 204
        },
        "outputId": "97333fb8-1c2b-4ab8-e0b5-053399e9a7d4"
      },
      "source": [
        "# Extract features\n",
        "x_features_object = walmart_data[walmart_data['Store'] ==1][['Store','Date']]\n",
        "date_obj = walmart_data[walmart_data['Store'] ==1][['Date']]\n",
        "date_obj.index +=1\n",
        "x_features_object.Date = date_obj.index\n",
        "x_features_object.head()"
      ],
      "execution_count": null,
      "outputs": [
        {
          "output_type": "execute_result",
          "data": {
            "text/html": [
              "<div>\n",
              "<style scoped>\n",
              "    .dataframe tbody tr th:only-of-type {\n",
              "        vertical-align: middle;\n",
              "    }\n",
              "\n",
              "    .dataframe tbody tr th {\n",
              "        vertical-align: top;\n",
              "    }\n",
              "\n",
              "    .dataframe thead th {\n",
              "        text-align: right;\n",
              "    }\n",
              "</style>\n",
              "<table border=\"1\" class=\"dataframe\">\n",
              "  <thead>\n",
              "    <tr style=\"text-align: right;\">\n",
              "      <th></th>\n",
              "      <th>Store</th>\n",
              "      <th>Date</th>\n",
              "    </tr>\n",
              "  </thead>\n",
              "  <tbody>\n",
              "    <tr>\n",
              "      <th>0</th>\n",
              "      <td>1</td>\n",
              "      <td>1</td>\n",
              "    </tr>\n",
              "    <tr>\n",
              "      <th>1</th>\n",
              "      <td>1</td>\n",
              "      <td>2</td>\n",
              "    </tr>\n",
              "    <tr>\n",
              "      <th>2</th>\n",
              "      <td>1</td>\n",
              "      <td>3</td>\n",
              "    </tr>\n",
              "    <tr>\n",
              "      <th>3</th>\n",
              "      <td>1</td>\n",
              "      <td>4</td>\n",
              "    </tr>\n",
              "    <tr>\n",
              "      <th>4</th>\n",
              "      <td>1</td>\n",
              "      <td>5</td>\n",
              "    </tr>\n",
              "  </tbody>\n",
              "</table>\n",
              "</div>"
            ],
            "text/plain": [
              "   Store  Date\n",
              "0      1     1\n",
              "1      1     2\n",
              "2      1     3\n",
              "3      1     4\n",
              "4      1     5"
            ]
          },
          "metadata": {
            "tags": []
          },
          "execution_count": 31
        }
      ]
    },
    {
      "cell_type": "code",
      "metadata": {
        "id": "Lg_HudWhvmpV",
        "colab": {
          "base_uri": "https://localhost:8080/",
          "height": 119
        },
        "outputId": "cba6cc0f-ac63-4470-fc8a-b9bbf66dbd9a"
      },
      "source": [
        "y_target = walmart_data[walmart_data['Store'] ==1]['Weekly_Sales']\n",
        "y_target.head()"
      ],
      "execution_count": null,
      "outputs": [
        {
          "output_type": "execute_result",
          "data": {
            "text/plain": [
              "0    1643690.90\n",
              "1    1641957.44\n",
              "2    1611968.17\n",
              "3    1409727.59\n",
              "4    1554806.68\n",
              "Name: Weekly_Sales, dtype: float64"
            ]
          },
          "metadata": {
            "tags": []
          },
          "execution_count": 32
        }
      ]
    },
    {
      "cell_type": "code",
      "metadata": {
        "id": "vK4JH88KvwZR"
      },
      "source": [
        "# split data\n",
        "x_train,x_test,y_train,y_test = train_test_split(x_features_object,y_target,test_size=0.2,random_state=42)"
      ],
      "execution_count": null,
      "outputs": []
    },
    {
      "cell_type": "code",
      "metadata": {
        "id": "O3wzbLnEwYlC",
        "colab": {
          "base_uri": "https://localhost:8080/",
          "height": 204
        },
        "outputId": "a3aac39a-3df2-4abe-f04e-b3952f4e5aad"
      },
      "source": [
        "#Linear Regression – Utilize variables like date and restructure dates as 1 for 5 Feb #2010 \n",
        "#(starting from the earliest date in order). Hypothesize if CPI, unemployment, \n",
        "#and #fuel price have any impact on sales.\n",
        "lr = LinearRegression()\n",
        "lr.fit(x_train,y_train)\n",
        "feature_dataset = walmart_data[walmart_data['Store'] ==1][['Store','CPI','Unemployment','Fuel_Price']]\n",
        "feature_dataset.head()"
      ],
      "execution_count": null,
      "outputs": [
        {
          "output_type": "execute_result",
          "data": {
            "text/html": [
              "<div>\n",
              "<style scoped>\n",
              "    .dataframe tbody tr th:only-of-type {\n",
              "        vertical-align: middle;\n",
              "    }\n",
              "\n",
              "    .dataframe tbody tr th {\n",
              "        vertical-align: top;\n",
              "    }\n",
              "\n",
              "    .dataframe thead th {\n",
              "        text-align: right;\n",
              "    }\n",
              "</style>\n",
              "<table border=\"1\" class=\"dataframe\">\n",
              "  <thead>\n",
              "    <tr style=\"text-align: right;\">\n",
              "      <th></th>\n",
              "      <th>Store</th>\n",
              "      <th>CPI</th>\n",
              "      <th>Unemployment</th>\n",
              "      <th>Fuel_Price</th>\n",
              "    </tr>\n",
              "  </thead>\n",
              "  <tbody>\n",
              "    <tr>\n",
              "      <th>0</th>\n",
              "      <td>1</td>\n",
              "      <td>211.096358</td>\n",
              "      <td>8.106</td>\n",
              "      <td>2.572</td>\n",
              "    </tr>\n",
              "    <tr>\n",
              "      <th>1</th>\n",
              "      <td>1</td>\n",
              "      <td>211.242170</td>\n",
              "      <td>8.106</td>\n",
              "      <td>2.548</td>\n",
              "    </tr>\n",
              "    <tr>\n",
              "      <th>2</th>\n",
              "      <td>1</td>\n",
              "      <td>211.289143</td>\n",
              "      <td>8.106</td>\n",
              "      <td>2.514</td>\n",
              "    </tr>\n",
              "    <tr>\n",
              "      <th>3</th>\n",
              "      <td>1</td>\n",
              "      <td>211.319643</td>\n",
              "      <td>8.106</td>\n",
              "      <td>2.561</td>\n",
              "    </tr>\n",
              "    <tr>\n",
              "      <th>4</th>\n",
              "      <td>1</td>\n",
              "      <td>211.350143</td>\n",
              "      <td>8.106</td>\n",
              "      <td>2.625</td>\n",
              "    </tr>\n",
              "  </tbody>\n",
              "</table>\n",
              "</div>"
            ],
            "text/plain": [
              "   Store         CPI  Unemployment  Fuel_Price\n",
              "0      1  211.096358         8.106       2.572\n",
              "1      1  211.242170         8.106       2.548\n",
              "2      1  211.289143         8.106       2.514\n",
              "3      1  211.319643         8.106       2.561\n",
              "4      1  211.350143         8.106       2.625"
            ]
          },
          "metadata": {
            "tags": []
          },
          "execution_count": 40
        }
      ]
    },
    {
      "cell_type": "code",
      "metadata": {
        "id": "DVc-HmeQxA8t"
      },
      "source": [
        "response_set_cpi = walmart_data[walmart_data['Store'] ==1]['CPI'].astype('int64')\n",
        "response_set_unemployment = walmart_data[walmart_data['Store'] ==1]['Unemployment'].astype('int64')\n"
      ],
      "execution_count": null,
      "outputs": []
    },
    {
      "cell_type": "code",
      "metadata": {
        "id": "LQekAeY0xGjv"
      },
      "source": [
        "x_train_cpi,x_test_cpi,y_train_cpi,y_test_cpi = train_test_split(feature_dataset,response_set_cpi,\n",
        "                                                                 test_size=0.2, random_state=42)\n",
        "x_train_unemp,x_test_unemp,y_train_unemp,y_test_unemp = train_test_split(feature_dataset, response_set_unemployment,\n",
        "                                                                         test_size=0.2, random_state=42)\n",
        "lgr = LogisticRegression(max_iter=10000)\n",
        "lgr.fit(x_train_cpi,y_train_cpi)\n",
        "y_pred = lgr.predict(x_test_cpi)\n",
        "lgr.fit(x_train_unemp,y_train_unemp)\n",
        "y_pred_unemp = lgr.predict(x_test_unemp)"
      ],
      "execution_count": null,
      "outputs": []
    },
    {
      "cell_type": "code",
      "metadata": {
        "id": "U8cX1z5fyqf2",
        "colab": {
          "base_uri": "https://localhost:8080/",
          "height": 51
        },
        "outputId": "79129ad7-684d-4b79-b426-5efd7b0352d7"
      },
      "source": [
        "# compute score accuracy \n",
        "print(metrics.accuracy_score(y_test_cpi,y_pred))\n",
        "print(metrics.accuracy_score(y_test_unemp,y_pred_unemp))"
      ],
      "execution_count": null,
      "outputs": [
        {
          "output_type": "stream",
          "text": [
            "0.6551724137931034\n",
            "0.9310344827586207\n"
          ],
          "name": "stdout"
        }
      ]
    },
    {
      "cell_type": "code",
      "metadata": {
        "id": "r--oaHUfy9MH",
        "colab": {
          "base_uri": "https://localhost:8080/",
          "height": 119
        },
        "outputId": "15382d61-3cf0-4ed8-9baf-912cdeed4700"
      },
      "source": [
        "print('cpi actual :', y_test_cpi.values[0:30])\n",
        "print('cpi Predicted :', y_pred[0:30])\n",
        "print('actual Unemployment :', y_test_unemp.values[0:30])\n",
        "print('Predicted Unemployment :', y_pred_unemp[0:30])"
      ],
      "execution_count": null,
      "outputs": [
        {
          "output_type": "stream",
          "text": [
            "cpi actual : [221 211 215 219 213 210 221 215 215 211 212 215 218 222 219 215 211 215\n",
            " 221 215 210 221 221 221 213 211 210 211 211]\n",
            "cpi Predicted : [221 211 215 217 215 211 221 215 215 211 211 215 217 221 221 215 211 215\n",
            " 221 215 211 221 221 221 215 211 211 211 211]\n",
            "actual Unemployment : [7 7 7 7 7 7 6 7 7 7 7 7 7 6 7 7 7 7 7 7 7 7 7 7 7 7 7 8 7]\n",
            "Predicted Unemployment : [7 7 7 7 7 7 6 7 7 7 7 7 7 6 7 7 7 7 6 7 7 7 7 7 7 7 7 7 7]\n"
          ],
          "name": "stdout"
        }
      ]
    },
    {
      "cell_type": "code",
      "metadata": {
        "id": "NSnBdd6IzFO4",
        "colab": {
          "base_uri": "https://localhost:8080/",
          "height": 204
        },
        "outputId": "b88629a7-ba56-404a-aff1-808dc7ef03d4"
      },
      "source": [
        "walmart_data['Day'] = pd.to_datetime(walmart_data['Date']).dt.day_name()\n",
        "walmart_data.head()"
      ],
      "execution_count": null,
      "outputs": [
        {
          "output_type": "execute_result",
          "data": {
            "text/html": [
              "<div>\n",
              "<style scoped>\n",
              "    .dataframe tbody tr th:only-of-type {\n",
              "        vertical-align: middle;\n",
              "    }\n",
              "\n",
              "    .dataframe tbody tr th {\n",
              "        vertical-align: top;\n",
              "    }\n",
              "\n",
              "    .dataframe thead th {\n",
              "        text-align: right;\n",
              "    }\n",
              "</style>\n",
              "<table border=\"1\" class=\"dataframe\">\n",
              "  <thead>\n",
              "    <tr style=\"text-align: right;\">\n",
              "      <th></th>\n",
              "      <th>Store</th>\n",
              "      <th>Date</th>\n",
              "      <th>Weekly_Sales</th>\n",
              "      <th>Holiday_Flag</th>\n",
              "      <th>Temperature</th>\n",
              "      <th>Fuel_Price</th>\n",
              "      <th>CPI</th>\n",
              "      <th>Unemployment</th>\n",
              "      <th>Day</th>\n",
              "    </tr>\n",
              "  </thead>\n",
              "  <tbody>\n",
              "    <tr>\n",
              "      <th>0</th>\n",
              "      <td>1</td>\n",
              "      <td>05-02-2010</td>\n",
              "      <td>1643690.90</td>\n",
              "      <td>0</td>\n",
              "      <td>42.31</td>\n",
              "      <td>2.572</td>\n",
              "      <td>211.096358</td>\n",
              "      <td>8.106</td>\n",
              "      <td>Sunday</td>\n",
              "    </tr>\n",
              "    <tr>\n",
              "      <th>1</th>\n",
              "      <td>1</td>\n",
              "      <td>12-02-2010</td>\n",
              "      <td>1641957.44</td>\n",
              "      <td>1</td>\n",
              "      <td>38.51</td>\n",
              "      <td>2.548</td>\n",
              "      <td>211.242170</td>\n",
              "      <td>8.106</td>\n",
              "      <td>Thursday</td>\n",
              "    </tr>\n",
              "    <tr>\n",
              "      <th>2</th>\n",
              "      <td>1</td>\n",
              "      <td>19-02-2010</td>\n",
              "      <td>1611968.17</td>\n",
              "      <td>0</td>\n",
              "      <td>39.93</td>\n",
              "      <td>2.514</td>\n",
              "      <td>211.289143</td>\n",
              "      <td>8.106</td>\n",
              "      <td>Friday</td>\n",
              "    </tr>\n",
              "    <tr>\n",
              "      <th>3</th>\n",
              "      <td>1</td>\n",
              "      <td>26-02-2010</td>\n",
              "      <td>1409727.59</td>\n",
              "      <td>0</td>\n",
              "      <td>46.63</td>\n",
              "      <td>2.561</td>\n",
              "      <td>211.319643</td>\n",
              "      <td>8.106</td>\n",
              "      <td>Friday</td>\n",
              "    </tr>\n",
              "    <tr>\n",
              "      <th>4</th>\n",
              "      <td>1</td>\n",
              "      <td>05-03-2010</td>\n",
              "      <td>1554806.68</td>\n",
              "      <td>0</td>\n",
              "      <td>46.50</td>\n",
              "      <td>2.625</td>\n",
              "      <td>211.350143</td>\n",
              "      <td>8.106</td>\n",
              "      <td>Monday</td>\n",
              "    </tr>\n",
              "  </tbody>\n",
              "</table>\n",
              "</div>"
            ],
            "text/plain": [
              "   Store        Date  Weekly_Sales  ...         CPI  Unemployment       Day\n",
              "0      1  05-02-2010    1643690.90  ...  211.096358         8.106    Sunday\n",
              "1      1  12-02-2010    1641957.44  ...  211.242170         8.106  Thursday\n",
              "2      1  19-02-2010    1611968.17  ...  211.289143         8.106    Friday\n",
              "3      1  26-02-2010    1409727.59  ...  211.319643         8.106    Friday\n",
              "4      1  05-03-2010    1554806.68  ...  211.350143         8.106    Monday\n",
              "\n",
              "[5 rows x 9 columns]"
            ]
          },
          "metadata": {
            "tags": []
          },
          "execution_count": 50
        }
      ]
    }
  ]
}