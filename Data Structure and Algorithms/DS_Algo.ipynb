{
  "nbformat": 4,
  "nbformat_minor": 0,
  "metadata": {
    "colab": {
      "provenance": []
    },
    "kernelspec": {
      "name": "python3",
      "display_name": "Python 3"
    },
    "language_info": {
      "name": "python"
    }
  },
  "cells": [
    {
      "cell_type": "markdown",
      "source": [
        "\n",
        "# Data Structures and Sorting Algorithms in Python\n",
        "\n",
        "This notebook demonstrates several common data structures and sorting algorithms that are frequently discussed in technical interviews.\n",
        "\n",
        "**In this notebook, we cover:**\n",
        "- **Data Structures:**\n",
        "  - Arrays (Python lists)\n",
        "  - Stack (LIFO) implementation\n",
        "  - Queue (FIFO) implementation\n",
        "  - Singly Linked List\n",
        "  - Binary Search Tree (BST)\n",
        "  \n",
        "- **Sorting Algorithms:**\n",
        "  - Bubble Sort\n",
        "  - Selection Sort\n",
        "  - Insertion Sort\n",
        "  - Merge Sort\n",
        "  - Quick Sort\n",
        "  - Heap Sort\n"
      ],
      "metadata": {
        "id": "HHwTH_8NPyDu"
      }
    },
    {
      "cell_type": "markdown",
      "source": [
        "\n",
        "## Arrays in Python\n",
        "\n",
        "Python's built-in list type serves as a dynamic array. Let's demonstrate some basic operations.\n"
      ],
      "metadata": {
        "id": "p_4o6_XkRLp1"
      }
    },
    {
      "cell_type": "code",
      "execution_count": 1,
      "metadata": {
        "colab": {
          "base_uri": "https://localhost:8080/"
        },
        "id": "j1JBDqosPxU_",
        "outputId": "80af2635-25b0-4018-ba1c-896be2f997b5"
      },
      "outputs": [
        {
          "output_type": "stream",
          "name": "stdout",
          "text": [
            "Original list: [5, 3, 8, 6, 7, 2]\n",
            "After appending 10: [5, 3, 8, 6, 7, 2, 10]\n",
            "After popping index 0: [3, 8, 6, 7, 2, 10]\n"
          ]
        }
      ],
      "source": [
        "# Arrays in Python (List) demonstration\n",
        "numbers = [5, 3, 8, 6, 7, 2]\n",
        "print(\"Original list:\", numbers)\n",
        "\n",
        "# Append an element to the list\n",
        "numbers.append(10)\n",
        "print(\"After appending 10:\", numbers)\n",
        "\n",
        "# Remove the first element (pop by index)\n",
        "numbers.pop(0)\n",
        "print(\"After popping index 0:\", numbers)\n"
      ]
    },
    {
      "cell_type": "markdown",
      "source": [
        "\n",
        "## Stack Implementation\n",
        "\n",
        "A **stack** is a LIFO (Last-In-First-Out) data structure. Below is a simple implementation using a Python list.\n"
      ],
      "metadata": {
        "id": "Yx4VltP7Rquw"
      }
    },
    {
      "cell_type": "code",
      "source": [
        "class Stack:\n",
        "    \"\"\"Simple stack implementation using a Python list.\"\"\"\n",
        "\n",
        "    def __init__(self):\n",
        "        self._container = []\n",
        "\n",
        "    def push(self, item):\n",
        "        \"\"\"Push an item onto the stack.\"\"\"\n",
        "        self._container.append(item)\n",
        "\n",
        "    def pop(self):\n",
        "        \"\"\"Pop the top item from the stack.\"\"\"\n",
        "        if not self.is_empty():\n",
        "            return self._container.pop()\n",
        "        raise IndexError(\"pop from empty stack\")\n",
        "\n",
        "    def peek(self):\n",
        "        \"\"\"Return the top item without removing it.\"\"\"\n",
        "        if not self.is_empty():\n",
        "            return self._container[-1]\n",
        "        raise IndexError(\"peek from empty stack\")\n",
        "\n",
        "    def is_empty(self):\n",
        "        \"\"\"Return True if the stack is empty.\"\"\"\n",
        "        return len(self._container) == 0\n",
        "\n",
        "    def __len__(self):\n",
        "        return len(self._container)\n",
        "\n",
        "# Demonstration of Stack usage\n",
        "stack = Stack()\n",
        "stack.push(1)\n",
        "stack.push(2)\n",
        "stack.push(3)\n",
        "print(\"Stack after pushes:\", stack._container)\n",
        "print(\"Popped item:\", stack.pop())\n",
        "print(\"Stack after pop:\", stack._container)\n"
      ],
      "metadata": {
        "colab": {
          "base_uri": "https://localhost:8080/"
        },
        "id": "yR-8MHdHRW7C",
        "outputId": "d7e4d45d-0865-4b9b-f23e-09b779ed9ef9"
      },
      "execution_count": 2,
      "outputs": [
        {
          "output_type": "stream",
          "name": "stdout",
          "text": [
            "Stack after pushes: [1, 2, 3]\n",
            "Popped item: 3\n",
            "Stack after pop: [1, 2]\n"
          ]
        }
      ]
    },
    {
      "cell_type": "markdown",
      "source": [
        "\n",
        "## Queue Implementation\n",
        "\n",
        "A **queue** is a FIFO (First-In-First-Out) data structure. We use Python's `collections.deque` for efficient appends and pops from the left.\n"
      ],
      "metadata": {
        "id": "Mdqc_p_rTBuE"
      }
    },
    {
      "cell_type": "code",
      "source": [
        "from collections import deque\n",
        "\n",
        "class Queue:\n",
        "    \"\"\"Simple queue implementation using collections.deque.\"\"\"\n",
        "\n",
        "    def __init__(self):\n",
        "        self._container = deque()\n",
        "\n",
        "    def enqueue(self, item):\n",
        "        \"\"\"Add an item to the end of the queue.\"\"\"\n",
        "        self._container.append(item)\n",
        "\n",
        "    def dequeue(self):\n",
        "        \"\"\"Remove and return the front item of the queue.\"\"\"\n",
        "        if not self.is_empty():\n",
        "            return self._container.popleft()\n",
        "        raise IndexError(\"dequeue from empty queue\")\n",
        "\n",
        "    def is_empty(self):\n",
        "        \"\"\"Return True if the queue is empty.\"\"\"\n",
        "        return len(self._container) == 0\n",
        "\n",
        "    def __len__(self):\n",
        "        return len(self._container)\n",
        "\n",
        "# Demonstration of Queue usage\n",
        "queue = Queue()\n",
        "queue.enqueue(1)\n",
        "queue.enqueue(2)\n",
        "queue.enqueue(3)\n",
        "print(\"Queue after enqueues:\", list(queue._container))\n",
        "print(\"Dequeued item:\", queue.dequeue())\n",
        "print(\"Queue after dequeue:\", list(queue._container))\n"
      ],
      "metadata": {
        "colab": {
          "base_uri": "https://localhost:8080/"
        },
        "id": "CHm9mIHMTDy-",
        "outputId": "386a10e9-eb6c-412b-bb32-cc314de97212"
      },
      "execution_count": 3,
      "outputs": [
        {
          "output_type": "stream",
          "name": "stdout",
          "text": [
            "Queue after enqueues: [1, 2, 3]\n",
            "Dequeued item: 1\n",
            "Queue after dequeue: [2, 3]\n"
          ]
        }
      ]
    },
    {
      "cell_type": "markdown",
      "source": [
        "\n",
        "## Singly Linked List Implementation\n",
        "\n",
        "A **linked list** is a linear collection of nodes where each node points to the next. Here is a simple implementation of a singly linked list.\n",
        "\n"
      ],
      "metadata": {
        "id": "V2ziDk9_Ukrf"
      }
    },
    {
      "cell_type": "code",
      "source": [
        "class ListNode:\n",
        "    \"\"\"Node for a singly linked list.\"\"\"\n",
        "    def __init__(self, value):\n",
        "        self.value = value\n",
        "        self.next = None\n",
        "\n",
        "class LinkedList:\n",
        "    \"\"\"Singly linked list implementation.\"\"\"\n",
        "\n",
        "    def __init__(self):\n",
        "        self.head = None\n",
        "\n",
        "    def append(self, value):\n",
        "        \"\"\"Append a new node with the given value at the end of the list.\"\"\"\n",
        "        new_node = ListNode(value)\n",
        "        if not self.head:\n",
        "            self.head = new_node\n",
        "            return\n",
        "        current = self.head\n",
        "        while current.next:\n",
        "            current = current.next\n",
        "        current.next = new_node\n",
        "\n",
        "    def to_list(self):\n",
        "        \"\"\"Return a Python list representation of the linked list.\"\"\"\n",
        "        result = []\n",
        "        current = self.head\n",
        "        while current:\n",
        "            result.append(current.value)\n",
        "            current = current.next\n",
        "        return result\n",
        "\n",
        "# Demonstration of Linked List usage\n",
        "linked_list = LinkedList()\n",
        "for value in [1, 2, 3, 4]:\n",
        "    linked_list.append(value)\n",
        "print(\"Linked List contents:\", linked_list.to_list())\n"
      ],
      "metadata": {
        "colab": {
          "base_uri": "https://localhost:8080/"
        },
        "id": "nuO2B91vTN9t",
        "outputId": "ad6ee7f3-c990-4019-9d13-625a9a553518"
      },
      "execution_count": 4,
      "outputs": [
        {
          "output_type": "stream",
          "name": "stdout",
          "text": [
            "Linked List contents: [1, 2, 3, 4]\n"
          ]
        }
      ]
    },
    {
      "cell_type": "markdown",
      "source": [
        "\n",
        "## Binary Search Tree (BST) Implementation\n",
        "\n",
        "A **binary search tree** is a tree data structure that maintains sorted order. Each node has a key, and for every node, keys in the left subtree are less, and keys in the right subtree are greater.\n"
      ],
      "metadata": {
        "id": "g6vDG589VPYJ"
      }
    },
    {
      "cell_type": "code",
      "source": [
        "class TreeNode:\n",
        "    \"\"\"Node in a binary search tree.\"\"\"\n",
        "    def __init__(self, key):\n",
        "        self.key = key\n",
        "        self.left = None\n",
        "        self.right = None\n",
        "\n",
        "class BinarySearchTree:\n",
        "    \"\"\"Binary Search Tree (BST) implementation.\"\"\"\n",
        "\n",
        "    def __init__(self):\n",
        "        self.root = None\n",
        "\n",
        "    def insert(self, key):\n",
        "        \"\"\"Insert a key into the BST.\"\"\"\n",
        "        if self.root is None:\n",
        "            self.root = TreeNode(key)\n",
        "        else:\n",
        "            self._insert_recursive(self.root, key)\n",
        "\n",
        "    def _insert_recursive(self, node, key):\n",
        "        if key < node.key:\n",
        "            if node.left is None:\n",
        "                node.left = TreeNode(key)\n",
        "            else:\n",
        "                self._insert_recursive(node.left, key)\n",
        "        else:\n",
        "            if node.right is None:\n",
        "                node.right = TreeNode(key)\n",
        "            else:\n",
        "                self._insert_recursive(node.right, key)\n",
        "\n",
        "    def inorder(self):\n",
        "        \"\"\"Return the in-order traversal of the BST.\"\"\"\n",
        "        result = []\n",
        "        self._inorder_recursive(self.root, result)\n",
        "        return result\n",
        "\n",
        "    def _inorder_recursive(self, node, result):\n",
        "        if node:\n",
        "            self._inorder_recursive(node.left, result)\n",
        "            result.append(node.key)\n",
        "            self._inorder_recursive(node.right, result)\n",
        "\n",
        "# Demonstration of BST usage\n",
        "bst = BinarySearchTree()\n",
        "for key in [7, 3, 9, 1, 5]:\n",
        "    bst.insert(key)\n",
        "print(\"BST in-order traversal (should be sorted):\", bst.inorder())\n"
      ],
      "metadata": {
        "colab": {
          "base_uri": "https://localhost:8080/"
        },
        "id": "7VdF4USPVSBV",
        "outputId": "d9aab255-78fa-430e-c577-0f1751adfff2"
      },
      "execution_count": 5,
      "outputs": [
        {
          "output_type": "stream",
          "name": "stdout",
          "text": [
            "BST in-order traversal (should be sorted): [1, 3, 5, 7, 9]\n"
          ]
        }
      ]
    },
    {
      "cell_type": "markdown",
      "source": [
        "\n",
        "# Sorting Algorithms\n",
        "\n",
        "Below we implement several common sorting algorithms. Each function returns a new sorted list.\n",
        "- **Bubble Sort**\n",
        "- **Selection Sort**\n",
        "- **Insertion Sort**\n",
        "- **Merge Sort**\n",
        "- **Quick Sort**\n",
        "- **Heap Sort**\n"
      ],
      "metadata": {
        "id": "AE9orIomW8P8"
      }
    },
    {
      "cell_type": "markdown",
      "source": [
        "\n",
        "## Bubble Sort\n",
        "\n",
        "Bubble Sort repeatedly steps through the list, compares adjacent items, and swaps them if they are in the wrong order.\n"
      ],
      "metadata": {
        "id": "dWCkTAfBXMxX"
      }
    },
    {
      "cell_type": "code",
      "source": [
        "def bubble_sort(arr):\n",
        "    \"\"\"\n",
        "    Bubble Sort algorithm.\n",
        "\n",
        "    Parameters:\n",
        "        arr (list): The list of elements to sort.\n",
        "\n",
        "    Returns:\n",
        "        list: A new list sorted in ascending order.\n",
        "    \"\"\"\n",
        "    n = len(arr)\n",
        "    sorted_arr = arr.copy()\n",
        "    for i in range(n):\n",
        "        for j in range(0, n - i - 1):\n",
        "            if sorted_arr[j] > sorted_arr[j + 1]:\n",
        "                sorted_arr[j], sorted_arr[j + 1] = sorted_arr[j + 1], sorted_arr[j]\n",
        "    return sorted_arr\n",
        "\n",
        "# Demonstration of Bubble Sort\n",
        "unsorted_list = [64, 34, 25, 12, 22, 11, 90]\n",
        "print(\"Original list for bubble sort:\", unsorted_list)\n",
        "print(\"Sorted list using bubble sort:\", bubble_sort(unsorted_list))\n"
      ],
      "metadata": {
        "colab": {
          "base_uri": "https://localhost:8080/"
        },
        "id": "swzghfdaXCGL",
        "outputId": "ec799612-9e4a-47ad-a671-acb5c7f11c00"
      },
      "execution_count": 6,
      "outputs": [
        {
          "output_type": "stream",
          "name": "stdout",
          "text": [
            "Original list for bubble sort: [64, 34, 25, 12, 22, 11, 90]\n",
            "Sorted list using bubble sort: [11, 12, 22, 25, 34, 64, 90]\n"
          ]
        }
      ]
    },
    {
      "cell_type": "markdown",
      "source": [
        "\n",
        "## Selection Sort\n",
        "\n",
        "Selection Sort finds the minimum element from the unsorted part of the list and places it at the beginning.\n",
        "\n"
      ],
      "metadata": {
        "id": "EWZiuCyKZ7fS"
      }
    },
    {
      "cell_type": "code",
      "source": [
        "def selection_sort(arr):\n",
        "    \"\"\"\n",
        "    Selection Sort algorithm.\n",
        "\n",
        "    Parameters:\n",
        "        arr (list): The list of elements to sort.\n",
        "\n",
        "    Returns:\n",
        "        list: A new list sorted in ascending order.\n",
        "    \"\"\"\n",
        "    sorted_arr = arr.copy()\n",
        "    n = len(sorted_arr)\n",
        "    for i in range(n):\n",
        "        min_idx = i\n",
        "        for j in range(i + 1, n):\n",
        "            if sorted_arr[j] < sorted_arr[min_idx]:\n",
        "                min_idx = j\n",
        "        sorted_arr[i], sorted_arr[min_idx] = sorted_arr[min_idx], sorted_arr[i]\n",
        "    return sorted_arr\n",
        "\n",
        "# Demonstration of Selection Sort\n",
        "unsorted_list = [64, 25, 12, 22, 11]\n",
        "print(\"Original list for selection sort:\", unsorted_list)\n",
        "print(\"Sorted list using selection sort:\", selection_sort(unsorted_list))\n"
      ],
      "metadata": {
        "colab": {
          "base_uri": "https://localhost:8080/"
        },
        "id": "4cupjVt5Xf3H",
        "outputId": "b9f34dd7-fbc6-4d07-edcd-83e2634ccdc1"
      },
      "execution_count": 7,
      "outputs": [
        {
          "output_type": "stream",
          "name": "stdout",
          "text": [
            "Original list for selection sort: [64, 25, 12, 22, 11]\n",
            "Sorted list using selection sort: [11, 12, 22, 25, 64]\n"
          ]
        }
      ]
    },
    {
      "cell_type": "markdown",
      "source": [
        "## Insertion Sort\n",
        "\n",
        "Insertion Sort builds the sorted array one element at a time by inserting each new element into its correct position.\n"
      ],
      "metadata": {
        "id": "cYKg99O8aTbO"
      }
    },
    {
      "cell_type": "code",
      "source": [
        "def insertion_sort(arr):\n",
        "    \"\"\"\n",
        "    Insertion Sort algorithm.\n",
        "\n",
        "    Parameters:\n",
        "        arr (list): The list of elements to sort.\n",
        "\n",
        "    Returns:\n",
        "        list: A new list sorted in ascending order.\n",
        "    \"\"\"\n",
        "    sorted_arr = arr.copy()\n",
        "    for i in range(1, len(sorted_arr)):\n",
        "        key = sorted_arr[i]\n",
        "        j = i - 1\n",
        "        # Move elements of sorted_arr[0..i-1] that are greater than key one position ahead.\n",
        "        while j >= 0 and key < sorted_arr[j]:\n",
        "            sorted_arr[j + 1] = sorted_arr[j]\n",
        "            j -= 1\n",
        "        sorted_arr[j + 1] = key\n",
        "    return sorted_arr\n",
        "\n",
        "# Demonstration of Insertion Sort\n",
        "unsorted_list = [12, 11, 13,5,5, 5, 6]\n",
        "print(\"Original list for insertion sort:\", unsorted_list)\n",
        "print(\"Sorted list using insertion sort:\", insertion_sort(unsorted_list))\n"
      ],
      "metadata": {
        "colab": {
          "base_uri": "https://localhost:8080/"
        },
        "id": "YI-3jO3FaSMq",
        "outputId": "e7637ffd-6030-4cf5-bcb3-d78ed717f0ae"
      },
      "execution_count": 9,
      "outputs": [
        {
          "output_type": "stream",
          "name": "stdout",
          "text": [
            "Original list for insertion sort: [12, 11, 13, 5, 5, 5, 6]\n",
            "Sorted list using insertion sort: [5, 5, 5, 6, 11, 12, 13]\n"
          ]
        }
      ]
    },
    {
      "cell_type": "markdown",
      "source": [
        "\n",
        "## Merge Sort\n",
        "\n",
        "Merge Sort is a divide and conquer algorithm. It divides the list into halves, recursively sorts each half, and then merges the sorted halves.\n"
      ],
      "metadata": {
        "id": "tsYz_vKhcXPw"
      }
    },
    {
      "cell_type": "code",
      "source": [
        "def merge_sort(arr):\n",
        "    \"\"\"\n",
        "    Merge Sort algorithm.\n",
        "\n",
        "    Parameters:\n",
        "        arr (list): The list of elements to sort.\n",
        "\n",
        "    Returns:\n",
        "        list: A new list sorted in ascending order.\n",
        "    \"\"\"\n",
        "    if len(arr) <= 1:\n",
        "        return arr\n",
        "    mid = len(arr) // 2\n",
        "    left_half = merge_sort(arr[:mid])\n",
        "    right_half = merge_sort(arr[mid:])\n",
        "    return merge(left_half, right_half)\n",
        "\n",
        "def merge(left, right):\n",
        "    \"\"\"Merge two sorted lists into one sorted list.\"\"\"\n",
        "    merged = []\n",
        "    left_idx, right_idx = 0, 0\n",
        "\n",
        "    # Merge the two lists until one is exhausted.\n",
        "    while left_idx < len(left) and right_idx < len(right):\n",
        "        if left[left_idx] < right[right_idx]:\n",
        "            merged.append(left[left_idx])\n",
        "            left_idx += 1\n",
        "        else:\n",
        "            merged.append(right[right_idx])\n",
        "            right_idx += 1\n",
        "\n",
        "    # Append any remaining elements.\n",
        "    merged.extend(left[left_idx:])\n",
        "    merged.extend(right[right_idx:])\n",
        "    return merged\n",
        "\n",
        "# Demonstration of Merge Sort\n",
        "unsorted_list = [38, 27, 43, 3, 9, 82, 10]\n",
        "print(\"Original list for merge sort:\", unsorted_list)\n",
        "print(\"Sorted list using merge sort:\", merge_sort(unsorted_list))\n"
      ],
      "metadata": {
        "colab": {
          "base_uri": "https://localhost:8080/"
        },
        "id": "cTwbW7TzaEY_",
        "outputId": "17f40d7b-8a96-43b8-e246-ea1ede737041"
      },
      "execution_count": 10,
      "outputs": [
        {
          "output_type": "stream",
          "name": "stdout",
          "text": [
            "Original list for merge sort: [38, 27, 43, 3, 9, 82, 10]\n",
            "Sorted list using merge sort: [3, 9, 10, 27, 38, 43, 82]\n"
          ]
        }
      ]
    },
    {
      "cell_type": "markdown",
      "source": [
        "\n",
        "## Quick Sort\n",
        "\n",
        "Quick Sort is a divide and conquer algorithm that selects a pivot element and partitions the array into sub-arrays of elements less than, equal to, and greater than the pivot.\n"
      ],
      "metadata": {
        "id": "Va2UPOEDdWB-"
      }
    },
    {
      "cell_type": "code",
      "source": [
        "def quick_sort(arr):\n",
        "    \"\"\"\n",
        "    Quick Sort algorithm.\n",
        "\n",
        "    Parameters:\n",
        "        arr (list): The list of elements to sort.\n",
        "\n",
        "    Returns:\n",
        "        list: A new list sorted in ascending order.\n",
        "    \"\"\"\n",
        "    if len(arr) <= 1:\n",
        "        return arr\n",
        "    pivot = arr[len(arr) // 2]\n",
        "    left = [x for x in arr if x < pivot]\n",
        "    middle = [x for x in arr if x == pivot]\n",
        "    right = [x for x in arr if x > pivot]\n",
        "    return quick_sort(left) + middle + quick_sort(right)\n",
        "\n",
        "# Demonstration of Quick Sort\n",
        "unsorted_list = [10, 7, 8, 9, 1, 5]\n",
        "print(\"Original list for quick sort:\", unsorted_list)\n",
        "print(\"Sorted list using quick sort:\", quick_sort(unsorted_list))\n"
      ],
      "metadata": {
        "colab": {
          "base_uri": "https://localhost:8080/"
        },
        "id": "JnfzAvJFct3G",
        "outputId": "820a50af-de18-4c88-da33-d707f0eb617b"
      },
      "execution_count": 11,
      "outputs": [
        {
          "output_type": "stream",
          "name": "stdout",
          "text": [
            "Original list for quick sort: [10, 7, 8, 9, 1, 5]\n",
            "Sorted list using quick sort: [1, 5, 7, 8, 9, 10]\n"
          ]
        }
      ]
    },
    {
      "cell_type": "markdown",
      "source": [
        "## Heap Sort\n",
        "\n",
        "Heap Sort uses a heap data structure to sort elements. Python's `heapq` module makes it easy to convert a list into a heap and extract elements in sorted order.\n"
      ],
      "metadata": {
        "id": "p44HbKtXduH1"
      }
    },
    {
      "cell_type": "code",
      "source": [
        "import heapq\n",
        "\n",
        "def heap_sort(arr):\n",
        "    \"\"\"\n",
        "    Heap Sort algorithm.\n",
        "\n",
        "    Parameters:\n",
        "        arr (list): The list of elements to sort.\n",
        "\n",
        "    Returns:\n",
        "        list: A new list sorted in ascending order.\n",
        "    \"\"\"\n",
        "    h = arr.copy()\n",
        "    heapq.heapify(h)\n",
        "    return [heapq.heappop(h) for _ in range(len(h))]\n",
        "\n",
        "# Demonstration of Heap Sort\n",
        "unsorted_list = [12, 11, 13, 5, 6, 7]\n",
        "print(\"Original list for heap sort:\", unsorted_list)\n",
        "print(\"Sorted list using heap sort:\", heap_sort(unsorted_list))\n"
      ],
      "metadata": {
        "colab": {
          "base_uri": "https://localhost:8080/"
        },
        "id": "p0t6_gCedcqX",
        "outputId": "62877806-afd4-4090-dc2d-a44a638f4cdf"
      },
      "execution_count": 12,
      "outputs": [
        {
          "output_type": "stream",
          "name": "stdout",
          "text": [
            "Original list for heap sort: [12, 11, 13, 5, 6, 7]\n",
            "Sorted list using heap sort: [5, 6, 7, 11, 12, 13]\n"
          ]
        }
      ]
    },
    {
      "cell_type": "markdown",
      "source": [
        "\n",
        "# Conclusion\n",
        "\n",
        "In this notebook, we've implemented and demonstrated a variety of data structures and sorting algorithms using Python. These examples not only illustrate how each algorithm works but also provide a solid basis for understanding the underlying principles commonly discussed during technical interviews.\n",
        "\n"
      ],
      "metadata": {
        "id": "jJAJ412seXFr"
      }
    },
    {
      "cell_type": "code",
      "source": [],
      "metadata": {
        "id": "-QfQS30CeZrN"
      },
      "execution_count": null,
      "outputs": []
    }
  ]
}